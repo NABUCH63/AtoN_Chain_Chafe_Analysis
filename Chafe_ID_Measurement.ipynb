{
 "cells": [
  {
   "cell_type": "code",
   "execution_count": 1,
   "metadata": {},
   "outputs": [],
   "source": [
    "import pandas as pd\n",
    "import os\n",
    "import re\n",
    "from fractions import Fraction\n",
    "import math"
   ]
  },
  {
   "cell_type": "code",
   "execution_count": 2,
   "metadata": {},
   "outputs": [],
   "source": [
    "chafe_search = re.compile(\"(?i)(chaf*e:*|chain)(?:\\s[^. ]*)*?\\s(measured)*\")\n",
    "chafe = re.compile(\"(?i)(?:chaf*e:*|chain)(?:\\s[^. ]*)*?\\s((?:\\d\\D|\\d\\s|)[1-9]?[0-9]?\\/\\d+)\")\n",
    "new_chain = re.compile(\"(?i)(new(\\s[^. ]*)*?\\schaf*e)|(chaf*e\\sreplaced)|(replaced(\\s[^. ]*)*?\\schaf*e)|(flipped(\\s[^. ]*)*?\\schaf*e)|(moved(\\s[^. ]*)*?\\schaf*e)|(chaf*e\\sflipped)|(shifted(\\s[^. ]*)*?\\schaf*e)|(chaf*e\\sshifted)|(new(\\s[^. ]*)*?\\schain)|(replaced(\\s[^. ]*)*?\\schain)|(chaf*e\\schanged)|(changed(\\s[^. ]*)*?\\schaf*e)|(reset(\\s[^. ]*)*?\\schain)|(reset(\\s[^. ]*)*?\\schaf*e)\")\n",
    "annual_chain = re.compile(\"(?i)annual(?:\\s[^. ]*)*?\\s(?:chaf*e:*|chain)(?:\\s[^. ]*)*?\\s((?:\\d\\D|\\d\\s|)[1-9]?[0-9]?\\/\\d+)\")\n",
    "per_year_chain = re.compile(\"(?i)(?:chaf*e:*|chain)(?:\\s[^. ]*)*?\\s((?:\\d\\D|\\d\\s|)[1-9]?[0-9]?\\/\\d+)(?:\\s[^. ]*)*?\\s(?:per year)\")\n",
    "seasonal_check = re.compile(\"(?i)(seasonal)\")"
   ]
  },
  {
   "cell_type": "code",
   "execution_count": 3,
   "metadata": {},
   "outputs": [],
   "source": [
    "FILE = \"chain_remark_df_all.csv\"\n",
    "chain_df = pd.read_csv(FILE, encoding='iso-8859-1', low_memory=False)"
   ]
  },
  {
   "cell_type": "code",
   "execution_count": 4,
   "metadata": {},
   "outputs": [],
   "source": [
    "# sort the values based on the AID_UID, REMARK, and CREATE_DATE columns \n",
    "chain_df[\"REMARK_DATE\"] = pd.to_datetime(chain_df[\"REMARK_DATE\"], errors='coerce')\n",
    "chain_df = chain_df[pd.notnull(chain_df[\"REMARK_DATE\"])]\n",
    "chain_df.reset_index(drop=True, inplace=True)"
   ]
  },
  {
   "cell_type": "code",
   "execution_count": 5,
   "metadata": {
    "scrolled": true
   },
   "outputs": [
    {
     "name": "stderr",
     "output_type": "stream",
     "text": [
      "<ipython-input-5-abfba383bcdc>:3: UserWarning: This pattern has match groups. To actually get the groups, use str.extract.\n",
      "  chafe_measurement = chain_df[chain_df[\"REMARK\"].str.contains(chafe_search, na=False)] # regex search for general chafe keyword pattern\n"
     ]
    },
    {
     "name": "stdout",
     "output_type": "stream",
     "text": [
      "290728\n",
      "103615\n"
     ]
    },
    {
     "data": {
      "text/html": [
       "<div>\n",
       "<style scoped>\n",
       "    .dataframe tbody tr th:only-of-type {\n",
       "        vertical-align: middle;\n",
       "    }\n",
       "\n",
       "    .dataframe tbody tr th {\n",
       "        vertical-align: top;\n",
       "    }\n",
       "\n",
       "    .dataframe thead th {\n",
       "        text-align: right;\n",
       "    }\n",
       "</style>\n",
       "<table border=\"1\" class=\"dataframe\">\n",
       "  <thead>\n",
       "    <tr style=\"text-align: right;\">\n",
       "      <th></th>\n",
       "      <th>AID_UID</th>\n",
       "      <th>PRIMARY_LIGHT_LIST_NUMBER</th>\n",
       "      <th>NAME</th>\n",
       "      <th>ASSIGNED_LATITUDE</th>\n",
       "      <th>ASSIGNED_LONGITUDE</th>\n",
       "      <th>REMARK_DATE</th>\n",
       "      <th>REMARK</th>\n",
       "      <th>INSPECTION_INTERVAL</th>\n",
       "      <th>SEGMENT_USE</th>\n",
       "      <th>SEGMENT_DIAMETER</th>\n",
       "      <th>CREATE_DATE</th>\n",
       "    </tr>\n",
       "  </thead>\n",
       "  <tbody>\n",
       "    <tr>\n",
       "      <th>111</th>\n",
       "      <td>2.001000e+11</td>\n",
       "      <td>3320.5</td>\n",
       "      <td>Wando River Terminal Lighted Buoy 7</td>\n",
       "      <td>32-49-58.405N</td>\n",
       "      <td>079-53-52.607W</td>\n",
       "      <td>1999-09-23 00:00:00</td>\n",
       "      <td>AID EST AS PER 07-99-08D COMPLETED LNM 30-99\\n...</td>\n",
       "      <td>36.0</td>\n",
       "      <td>CHAFE</td>\n",
       "      <td>1</td>\n",
       "      <td>3/6/2018 11:27</td>\n",
       "    </tr>\n",
       "    <tr>\n",
       "      <th>376</th>\n",
       "      <td>2.001000e+11</td>\n",
       "      <td>5805.0</td>\n",
       "      <td>St Catherines Sound Buoy 3</td>\n",
       "      <td>31-41-13.829N</td>\n",
       "      <td>081-04-18.375W</td>\n",
       "      <td>1999-07-16 00:00:00</td>\n",
       "      <td>PART SUBM X CHAS 13MAY96//RESET X SMLX 11SEP96...</td>\n",
       "      <td>12.0</td>\n",
       "      <td>CHAFE</td>\n",
       "      <td>1 1/8</td>\n",
       "      <td>9/23/2002 9:20</td>\n",
       "    </tr>\n",
       "    <tr>\n",
       "      <th>395</th>\n",
       "      <td>5.075000e+11</td>\n",
       "      <td>28529.0</td>\n",
       "      <td>Roanoke Sound Channel Buoy 29C</td>\n",
       "      <td>35-55-06.300N</td>\n",
       "      <td>075-38-59.077W</td>\n",
       "      <td>2014-02-05 10:29:00</td>\n",
       "      <td>03FEB2014: DISCREPANCY RESPONSE. AID FOUND MIS...</td>\n",
       "      <td>36.0</td>\n",
       "      <td>RISER</td>\n",
       "      <td>1/2</td>\n",
       "      <td>7/29/2005 18:23</td>\n",
       "    </tr>\n",
       "    <tr>\n",
       "      <th>397</th>\n",
       "      <td>2.001000e+11</td>\n",
       "      <td>28440.0</td>\n",
       "      <td>Wanchese Channel Buoy 1</td>\n",
       "      <td>35-50-34.530N</td>\n",
       "      <td>075-36-25.650W</td>\n",
       "      <td>2014-02-05 11:01:00</td>\n",
       "      <td>31JAN2014: DISCREPANCY RESPONSE. AID FOUND OFF...</td>\n",
       "      <td>36.0</td>\n",
       "      <td>RISER</td>\n",
       "      <td>1/2</td>\n",
       "      <td>12/5/1999 13:12</td>\n",
       "    </tr>\n",
       "    <tr>\n",
       "      <th>442</th>\n",
       "      <td>2.001000e+11</td>\n",
       "      <td>4090.0</td>\n",
       "      <td>Port Royal Sound Channel Lighted Buoy 4</td>\n",
       "      <td>32-05-55.224N</td>\n",
       "      <td>080-35-03.778W</td>\n",
       "      <td>1999-09-29 00:00:00</td>\n",
       "      <td>Aid slated for 1 7/8\" chain test.</td>\n",
       "      <td>24.0</td>\n",
       "      <td>CHAFE</td>\n",
       "      <td>1 1/2</td>\n",
       "      <td>10/21/2003 15:18</td>\n",
       "    </tr>\n",
       "  </tbody>\n",
       "</table>\n",
       "</div>"
      ],
      "text/plain": [
       "          AID_UID  PRIMARY_LIGHT_LIST_NUMBER  \\\n",
       "111  2.001000e+11                     3320.5   \n",
       "376  2.001000e+11                     5805.0   \n",
       "395  5.075000e+11                    28529.0   \n",
       "397  2.001000e+11                    28440.0   \n",
       "442  2.001000e+11                     4090.0   \n",
       "\n",
       "                                        NAME ASSIGNED_LATITUDE  \\\n",
       "111      Wando River Terminal Lighted Buoy 7     32-49-58.405N   \n",
       "376               St Catherines Sound Buoy 3     31-41-13.829N   \n",
       "395           Roanoke Sound Channel Buoy 29C     35-55-06.300N   \n",
       "397                  Wanchese Channel Buoy 1     35-50-34.530N   \n",
       "442  Port Royal Sound Channel Lighted Buoy 4     32-05-55.224N   \n",
       "\n",
       "    ASSIGNED_LONGITUDE         REMARK_DATE  \\\n",
       "111     079-53-52.607W 1999-09-23 00:00:00   \n",
       "376     081-04-18.375W 1999-07-16 00:00:00   \n",
       "395     075-38-59.077W 2014-02-05 10:29:00   \n",
       "397     075-36-25.650W 2014-02-05 11:01:00   \n",
       "442     080-35-03.778W 1999-09-29 00:00:00   \n",
       "\n",
       "                                                REMARK  INSPECTION_INTERVAL  \\\n",
       "111  AID EST AS PER 07-99-08D COMPLETED LNM 30-99\\n...                 36.0   \n",
       "376  PART SUBM X CHAS 13MAY96//RESET X SMLX 11SEP96...                 12.0   \n",
       "395  03FEB2014: DISCREPANCY RESPONSE. AID FOUND MIS...                 36.0   \n",
       "397  31JAN2014: DISCREPANCY RESPONSE. AID FOUND OFF...                 36.0   \n",
       "442                  Aid slated for 1 7/8\" chain test.                 24.0   \n",
       "\n",
       "    SEGMENT_USE SEGMENT_DIAMETER       CREATE_DATE  \n",
       "111       CHAFE                1    3/6/2018 11:27  \n",
       "376       CHAFE            1 1/8    9/23/2002 9:20  \n",
       "395       RISER              1/2   7/29/2005 18:23  \n",
       "397       RISER              1/2   12/5/1999 13:12  \n",
       "442       CHAFE            1 1/2  10/21/2003 15:18  "
      ]
     },
     "execution_count": 5,
     "metadata": {},
     "output_type": "execute_result"
    }
   ],
   "source": [
    "#checks if the comments contain something that looks like a chafe measurement?\n",
    "\n",
    "chafe_measurement = chain_df[chain_df[\"REMARK\"].str.contains(chafe_search, na=False)] # regex search for general chafe keyword pattern\n",
    "print(len(chain_df)) #all entries\n",
    "print(len(chafe_measurement)) #entries that contain the pattern\n",
    "chafe_measurement.head()"
   ]
  },
  {
   "cell_type": "code",
   "execution_count": 6,
   "metadata": {},
   "outputs": [
    {
     "name": "stdout",
     "output_type": "stream",
     "text": [
      "103615\n",
      "991\n"
     ]
    }
   ],
   "source": [
    "annual_chain_capture = chafe_measurement[\"REMARK\"].str.extract(annual_chain) # regex search for chafe keyword matching a chafe entry, pulling the fraction\n",
    "print(len(annual_chain_capture)) # original entries\n",
    "print(len(annual_chain_capture.dropna())) # entries with a measurement pulled"
   ]
  },
  {
   "cell_type": "code",
   "execution_count": 7,
   "metadata": {},
   "outputs": [
    {
     "name": "stderr",
     "output_type": "stream",
     "text": [
      "<ipython-input-7-5c455530309d>:1: UserWarning: This pattern has match groups. To actually get the groups, use str.extract.\n",
      "  seasonal_capture = chafe_measurement[chafe_measurement[\"REMARK\"].str.contains(seasonal_check)] # regex search for chafe keyword matching a chafe entry, pulling the fraction\n"
     ]
    },
    {
     "name": "stdout",
     "output_type": "stream",
     "text": [
      "12801\n",
      "12752\n"
     ]
    }
   ],
   "source": [
    "seasonal_capture = chafe_measurement[chafe_measurement[\"REMARK\"].str.contains(seasonal_check)] # regex search for chafe keyword matching a chafe entry, pulling the fraction\n",
    "print(len(seasonal_capture)) # original entries\n",
    "print(len(seasonal_capture.dropna())) # entries with a measurement pulled"
   ]
  },
  {
   "cell_type": "code",
   "execution_count": 8,
   "metadata": {},
   "outputs": [],
   "source": [
    "chain_df[\"Seasonal\"] = 0\n",
    "\n",
    "for x in seasonal_capture.index:\n",
    "    chain_df.iloc[[x], [11]] = 1\n",
    "    chain_df.iloc[[x], [7]] = 12\n",
    "    \n"
   ]
  },
  {
   "cell_type": "code",
   "execution_count": 9,
   "metadata": {},
   "outputs": [
    {
     "name": "stdout",
     "output_type": "stream",
     "text": [
      "103615\n",
      "209\n"
     ]
    }
   ],
   "source": [
    "per_year_capture = chafe_measurement[\"REMARK\"].str.extract(per_year_chain) # regex search for chafe keyword matching a chafe entry, pulling the fraction\n",
    "print(len(per_year_capture)) # original entries\n",
    "print(len(per_year_capture.dropna())) # entries with a measurement pulled"
   ]
  },
  {
   "cell_type": "code",
   "execution_count": 10,
   "metadata": {},
   "outputs": [
    {
     "name": "stdout",
     "output_type": "stream",
     "text": [
      "103615\n",
      "70443\n"
     ]
    }
   ],
   "source": [
    "chain_df[\"measurement\"] = 0 #create column to store measurement values\n",
    "measurement = chafe_measurement[\"REMARK\"].str.extract(chafe) # regex search for chafe keyword matching a chafe entry, pulling the fraction\n",
    "print(len(measurement)) # original entries\n",
    "print(len(measurement.dropna())) # entries with a measurement pulled\n"
   ]
  },
  {
   "cell_type": "code",
   "execution_count": 11,
   "metadata": {},
   "outputs": [],
   "source": [
    "for x in measurement.index:\n",
    "    if x in annual_chain_capture.index:\n",
    "        if measurement[0][x] != annual_chain_capture[0][x]:\n",
    "            annual_chain_capture.drop([x], axis=0, inplace=True)\n",
    "    \n",
    "    if x in per_year_capture.index:\n",
    "        if measurement[0][x] != per_year_capture[0][x]:\n",
    "            per_year_capture.drop([x], axis=0, inplace=True)"
   ]
  },
  {
   "cell_type": "code",
   "execution_count": 12,
   "metadata": {},
   "outputs": [
    {
     "name": "stderr",
     "output_type": "stream",
     "text": [
      "<ipython-input-12-713b4445d0d1>:3: UserWarning: This pattern has match groups. To actually get the groups, use str.extract.\n",
      "  chain_replaced = chain_df[chain_df[\"REMARK\"].str.contains(new_chain, na=False)] # regex search for if chain was replaced\n"
     ]
    },
    {
     "name": "stdout",
     "output_type": "stream",
     "text": [
      "44541\n"
     ]
    }
   ],
   "source": [
    "chain_df[\"new_chafe\"] = 0 # new column for if chain was replaced\n",
    "\n",
    "chain_replaced = chain_df[chain_df[\"REMARK\"].str.contains(new_chain, na=False)] # regex search for if chain was replaced\n",
    "print(len(chain_replaced)) # number of entries found matching the search, for below check.\n"
   ]
  },
  {
   "cell_type": "code",
   "execution_count": 13,
   "metadata": {},
   "outputs": [
    {
     "name": "stdout",
     "output_type": "stream",
     "text": [
      "539\n"
     ]
    }
   ],
   "source": [
    "chain_df[\"annual_measure\"] = 0 # new column for if ACW was only available in comment\n",
    "\n",
    "# if an entry was matched by the regex looking for new/replaced/etc. chafe/chain, then it appends a 1 in place of the existing value (0)\n",
    "for x in per_year_capture.index:\n",
    "    chain_df.iloc[x, 14] = 1\n",
    "\n",
    "for x in annual_chain_capture.index:\n",
    "    chain_df.iloc[x, 14] = 1\n",
    "    \n",
    "total = chain_df[\"annual_measure\"].sum()\n",
    "print(total) # check if proper column was altered (should equal the above cell output)"
   ]
  },
  {
   "cell_type": "code",
   "execution_count": 14,
   "metadata": {},
   "outputs": [
    {
     "name": "stdout",
     "output_type": "stream",
     "text": [
      "44541\n"
     ]
    }
   ],
   "source": [
    "# if an entry was matched by the regex looking for new/replaced/etc. chafe/chain, then it appends a 1 in place of the existing value (0)\n",
    "for x in chain_replaced.index:\n",
    "    chain_df.iloc[x, 13] = 1\n",
    "    \n",
    "total = chain_df[\"new_chafe\"].sum()\n",
    "print(total) # check if proper column was altered (should equal the above cell output)\n",
    "\n",
    "# appends the measurements pulled to the empty \"measurement\" column\n",
    "chain_df[\"measurement\"] = measurement\n"
   ]
  },
  {
   "cell_type": "code",
   "execution_count": 15,
   "metadata": {},
   "outputs": [],
   "source": [
    "chain_df = chain_df.replace(regex=['-'], value=' ') # removes '-' from the dataframe (affects the lat/lon and fraction columns (only some fractions have the '-'))"
   ]
  },
  {
   "cell_type": "code",
   "execution_count": 16,
   "metadata": {},
   "outputs": [],
   "source": [
    "# chain_df[(chain_df[\"PRIMARY_LIGHT_LIST_NUMBER\"] == 22040) & (chain_df[\"NAME\"] == \"Pensaukee Harbor Entrance Lighted Buoy 2\")]"
   ]
  },
  {
   "cell_type": "code",
   "execution_count": 17,
   "metadata": {},
   "outputs": [],
   "source": [
    "# loops through each index, splitting the corresponding \"SEGMENT_DIAMETER\" entry if it includes a whitespace (i.e. if 1 3/4 vs 3/4)\n",
    "# loops through each string segment that was split, converts it to a fraction, then a float, then adds it to a running total for that index\n",
    "# appends the final total for that index to overwrite the original fraction in the dataframe with the decimal equivalent\n",
    "\n",
    "for x in chain_df.index:\n",
    "    temp = str(chain_df[\"SEGMENT_DIAMETER\"][x]).split(' ')\n",
    "    temp_adder = 0\n",
    "\n",
    "    for y in temp:\n",
    "        try:\n",
    "            t = float(Fraction(y))\n",
    "            \n",
    "        except:\n",
    "            t = 0\n",
    "\n",
    "        temp_adder = temp_adder + t\n",
    "\n",
    "    chain_df.iloc[x, 9] = float(temp_adder)\n",
    "\n",
    "                \n",
    "\n",
    "        \n",
    "chain_df.to_csv(\"test_conversion.csv\")"
   ]
  },
  {
   "cell_type": "code",
   "execution_count": 18,
   "metadata": {},
   "outputs": [],
   "source": [
    "# loops through each index, splitting the corresponding \"measurement\" entry if it includes a whitespace (i.e. if 1 3/4 vs 3/4)\n",
    "# loops through each string segment that was split, converts it to a fraction, then a float, then adds it to a running total for that index\n",
    "# appends the final total for that index to overwrite the original fraction in the dataframe with the decimal equivalent\n",
    "\n",
    "for x in chain_df.index:\n",
    "    temp = str(chain_df[\"measurement\"][x]).split(' ')\n",
    "    temp_adder = 0\n",
    "    try:\n",
    "\n",
    "        for y in temp:\n",
    "            \n",
    "            try:\n",
    "                if \"/16\" in y:\n",
    "                    t = float(Fraction(y)) / 2\n",
    "                else:\n",
    "                    t = float(Fraction(y))\n",
    "            except:\n",
    "                \n",
    "                t = 0\n",
    "            \n",
    "            temp_adder = temp_adder + t\n",
    "            \n",
    "\n",
    "        chain_df.iloc[x, 12] = float(temp_adder)\n",
    "        \n",
    "\n",
    "                \n",
    "    except:\n",
    "        \n",
    "        chain_df.iloc[x, 12] = 0"
   ]
  },
  {
   "cell_type": "code",
   "execution_count": 19,
   "metadata": {},
   "outputs": [
    {
     "name": "stdout",
     "output_type": "stream",
     "text": [
      "290728\n",
      "83728\n"
     ]
    }
   ],
   "source": [
    "chafe_df = chain_df[((chain_df[\"measurement\"] < 1.25) & (chain_df[\"measurement\"] > 0))|(chain_df[\"new_chafe\"] == 1)]\n",
    "print(len(chain_df))\n",
    "print(len(chafe_df))"
   ]
  },
  {
   "cell_type": "code",
   "execution_count": 20,
   "metadata": {},
   "outputs": [
    {
     "data": {
      "text/html": [
       "<div>\n",
       "<style scoped>\n",
       "    .dataframe tbody tr th:only-of-type {\n",
       "        vertical-align: middle;\n",
       "    }\n",
       "\n",
       "    .dataframe tbody tr th {\n",
       "        vertical-align: top;\n",
       "    }\n",
       "\n",
       "    .dataframe thead th {\n",
       "        text-align: right;\n",
       "    }\n",
       "</style>\n",
       "<table border=\"1\" class=\"dataframe\">\n",
       "  <thead>\n",
       "    <tr style=\"text-align: right;\">\n",
       "      <th></th>\n",
       "      <th>AID_UID</th>\n",
       "      <th>PRIMARY_LIGHT_LIST_NUMBER</th>\n",
       "      <th>NAME</th>\n",
       "      <th>ASSIGNED_LATITUDE</th>\n",
       "      <th>ASSIGNED_LONGITUDE</th>\n",
       "      <th>REMARK_DATE</th>\n",
       "      <th>REMARK</th>\n",
       "      <th>INSPECTION_INTERVAL</th>\n",
       "      <th>SEGMENT_USE</th>\n",
       "      <th>SEGMENT_DIAMETER</th>\n",
       "      <th>CREATE_DATE</th>\n",
       "      <th>Seasonal</th>\n",
       "      <th>measurement</th>\n",
       "      <th>new_chafe</th>\n",
       "      <th>annual_measure</th>\n",
       "      <th>ACW</th>\n",
       "    </tr>\n",
       "  </thead>\n",
       "  <tbody>\n",
       "    <tr>\n",
       "      <th>0</th>\n",
       "      <td>1.001170e+11</td>\n",
       "      <td>9706.0</td>\n",
       "      <td>APM Terminal Channel Junction Lighted Buoy A</td>\n",
       "      <td>36 52 49.912N</td>\n",
       "      <td>076 20 55.864W</td>\n",
       "      <td>2009-09-03 16:40:00</td>\n",
       "      <td>SCHD. FOUND ON STATION AND WATCHING PROPERLY. ...</td>\n",
       "      <td>36.0</td>\n",
       "      <td>CHAFE</td>\n",
       "      <td>1.0</td>\n",
       "      <td>6/4/2007 10:02</td>\n",
       "      <td>0</td>\n",
       "      <td>0.875</td>\n",
       "      <td>0</td>\n",
       "      <td>0</td>\n",
       "      <td>0</td>\n",
       "    </tr>\n",
       "    <tr>\n",
       "      <th>1</th>\n",
       "      <td>1.001170e+11</td>\n",
       "      <td>9706.0</td>\n",
       "      <td>APM Terminal Channel Junction Lighted Buoy A</td>\n",
       "      <td>36 52 49.912N</td>\n",
       "      <td>076 20 55.864W</td>\n",
       "      <td>2012-09-05 08:48:00</td>\n",
       "      <td>SCHD. FOUND ON STATION AND WATCHING PROPERLY. ...</td>\n",
       "      <td>36.0</td>\n",
       "      <td>CHAFE</td>\n",
       "      <td>1.0</td>\n",
       "      <td>6/4/2007 10:02</td>\n",
       "      <td>0</td>\n",
       "      <td>0.71875</td>\n",
       "      <td>1</td>\n",
       "      <td>0</td>\n",
       "      <td>0</td>\n",
       "    </tr>\n",
       "    <tr>\n",
       "      <th>2</th>\n",
       "      <td>1.001170e+11</td>\n",
       "      <td>9706.0</td>\n",
       "      <td>APM Terminal Channel Junction Lighted Buoy A</td>\n",
       "      <td>36 52 49.912N</td>\n",
       "      <td>076 20 55.864W</td>\n",
       "      <td>2015-07-29 13:11:00</td>\n",
       "      <td>SCHD;  FOUND AID ON STATION W/P USING STATION ...</td>\n",
       "      <td>36.0</td>\n",
       "      <td>CHAFE</td>\n",
       "      <td>1.0</td>\n",
       "      <td>6/4/2007 10:02</td>\n",
       "      <td>0</td>\n",
       "      <td>0.875</td>\n",
       "      <td>0</td>\n",
       "      <td>0</td>\n",
       "      <td>0</td>\n",
       "    </tr>\n",
       "    <tr>\n",
       "      <th>3</th>\n",
       "      <td>1.001170e+11</td>\n",
       "      <td>9706.0</td>\n",
       "      <td>APM Terminal Channel Junction Lighted Buoy A</td>\n",
       "      <td>36 52 49.912N</td>\n",
       "      <td>076 20 55.864W</td>\n",
       "      <td>2016-10-18 11:33:00</td>\n",
       "      <td>SCHD; FOUND AID ON STATION W/P USING STATION I...</td>\n",
       "      <td>36.0</td>\n",
       "      <td>CHAFE</td>\n",
       "      <td>1.0</td>\n",
       "      <td>6/4/2007 10:02</td>\n",
       "      <td>0</td>\n",
       "      <td>0.8125</td>\n",
       "      <td>0</td>\n",
       "      <td>0</td>\n",
       "      <td>0</td>\n",
       "    </tr>\n",
       "    <tr>\n",
       "      <th>4</th>\n",
       "      <td>1.001170e+11</td>\n",
       "      <td>9706.0</td>\n",
       "      <td>APM Terminal Channel Junction Lighted Buoy A</td>\n",
       "      <td>36 52 49.912N</td>\n",
       "      <td>076 20 55.864W</td>\n",
       "      <td>2019-10-28 09:04:00</td>\n",
       "      <td>SCHD; FOUND AID ON STA W/P. CONDUCTED INSPECTI...</td>\n",
       "      <td>36.0</td>\n",
       "      <td>CHAFE</td>\n",
       "      <td>1.0</td>\n",
       "      <td>6/4/2007 10:02</td>\n",
       "      <td>0</td>\n",
       "      <td>0.65625</td>\n",
       "      <td>0</td>\n",
       "      <td>0</td>\n",
       "      <td>0</td>\n",
       "    </tr>\n",
       "  </tbody>\n",
       "</table>\n",
       "</div>"
      ],
      "text/plain": [
       "        AID_UID  PRIMARY_LIGHT_LIST_NUMBER  \\\n",
       "0  1.001170e+11                     9706.0   \n",
       "1  1.001170e+11                     9706.0   \n",
       "2  1.001170e+11                     9706.0   \n",
       "3  1.001170e+11                     9706.0   \n",
       "4  1.001170e+11                     9706.0   \n",
       "\n",
       "                                           NAME ASSIGNED_LATITUDE  \\\n",
       "0  APM Terminal Channel Junction Lighted Buoy A     36 52 49.912N   \n",
       "1  APM Terminal Channel Junction Lighted Buoy A     36 52 49.912N   \n",
       "2  APM Terminal Channel Junction Lighted Buoy A     36 52 49.912N   \n",
       "3  APM Terminal Channel Junction Lighted Buoy A     36 52 49.912N   \n",
       "4  APM Terminal Channel Junction Lighted Buoy A     36 52 49.912N   \n",
       "\n",
       "  ASSIGNED_LONGITUDE         REMARK_DATE  \\\n",
       "0     076 20 55.864W 2009-09-03 16:40:00   \n",
       "1     076 20 55.864W 2012-09-05 08:48:00   \n",
       "2     076 20 55.864W 2015-07-29 13:11:00   \n",
       "3     076 20 55.864W 2016-10-18 11:33:00   \n",
       "4     076 20 55.864W 2019-10-28 09:04:00   \n",
       "\n",
       "                                              REMARK  INSPECTION_INTERVAL  \\\n",
       "0  SCHD. FOUND ON STATION AND WATCHING PROPERLY. ...                 36.0   \n",
       "1  SCHD. FOUND ON STATION AND WATCHING PROPERLY. ...                 36.0   \n",
       "2  SCHD;  FOUND AID ON STATION W/P USING STATION ...                 36.0   \n",
       "3  SCHD; FOUND AID ON STATION W/P USING STATION I...                 36.0   \n",
       "4  SCHD; FOUND AID ON STA W/P. CONDUCTED INSPECTI...                 36.0   \n",
       "\n",
       "  SEGMENT_USE SEGMENT_DIAMETER     CREATE_DATE  Seasonal measurement  \\\n",
       "0       CHAFE              1.0  6/4/2007 10:02         0       0.875   \n",
       "1       CHAFE              1.0  6/4/2007 10:02         0     0.71875   \n",
       "2       CHAFE              1.0  6/4/2007 10:02         0       0.875   \n",
       "3       CHAFE              1.0  6/4/2007 10:02         0      0.8125   \n",
       "4       CHAFE              1.0  6/4/2007 10:02         0     0.65625   \n",
       "\n",
       "   new_chafe  annual_measure  ACW  \n",
       "0          0               0    0  \n",
       "1          1               0    0  \n",
       "2          0               0    0  \n",
       "3          0               0    0  \n",
       "4          0               0    0  "
      ]
     },
     "execution_count": 20,
     "metadata": {},
     "output_type": "execute_result"
    }
   ],
   "source": [
    "\n",
    "chafe_sorted = chafe_df.sort_values([\"NAME\", \"REMARK_DATE\"])\n",
    "chafe_sorted = chafe_sorted.reset_index(drop=True)\n",
    "chafe_sorted[\"ACW\"] = 0\n",
    "chafe_sorted.head()\n"
   ]
  },
  {
   "cell_type": "code",
   "execution_count": 21,
   "metadata": {},
   "outputs": [],
   "source": [
    "for i in chafe_sorted.index:\n",
    "    if chafe_sorted[\"measurement\"][i] == 0:\n",
    "        chafe_sorted.iloc[i, 12] = chafe_sorted[\"SEGMENT_DIAMETER\"][i]\n",
    "        \n",
    "for x in chafe_sorted.index:\n",
    "    chafe_sorted.iloc[x, 12] = float(chafe_sorted[\"measurement\"][x])\n",
    "    if chafe_sorted[\"annual_measure\"][x] == 1:\n",
    "        chafe_sorted.iloc[x+1, 15] = chafe_sorted[\"measurement\"][x]\n",
    "    elif x < len(chafe_sorted)-2:\n",
    "        if chafe_sorted[\"NAME\"][x+1] == chafe_sorted[\"NAME\"][x]:\n",
    "            if (chafe_sorted[\"REMARK_DATE\"][x+1] - chafe_sorted[\"REMARK_DATE\"][x]).days > 180:\n",
    "                if (abs(chafe_sorted[\"measurement\"][x+1] - chafe_sorted[\"measurement\"][x]) <= .2) and (chafe_sorted[\"measurement\"][x] < .4) and (chafe_sorted[\"measurement\"][x+1] < .4):\n",
    "                    chafe_sorted.iloc[x+1, 15] = chafe_sorted[\"measurement\"][x]\n",
    "                elif chafe_sorted[\"measurement\"][x+1] >= chafe_sorted[\"measurement\"][x]:\n",
    "                    chafe_sorted.iloc[x+1, 15] = (chafe_sorted[\"SEGMENT_DIAMETER\"][x+1] - chafe_sorted[\"measurement\"][x+1])/(((chafe_sorted[\"REMARK_DATE\"][x+1] - chafe_sorted[\"REMARK_DATE\"][x]).days)/365)\n",
    "                else: chafe_sorted.iloc[x+1, 15] = (chafe_sorted[\"measurement\"][x] - chafe_sorted[\"measurement\"][x+1])/(((chafe_sorted[\"REMARK_DATE\"][x+1] - chafe_sorted[\"REMARK_DATE\"][x]).days)/365)\n",
    "            else: chafe_sorted.iloc[x+1, 15] = 0\n",
    "        else: chafe_sorted.iloc[x+1, 15] = 0"
   ]
  },
  {
   "cell_type": "code",
   "execution_count": 22,
   "metadata": {},
   "outputs": [
    {
     "name": "stderr",
     "output_type": "stream",
     "text": [
      "<ipython-input-22-4d383675b975>:17: RuntimeWarning: divide by zero encountered in double_scalars\n",
      "  aggregate_df.iloc[x, 10] = 1 - ((aggregate_df[\"AVG_ACW\"][x]*(float(aggregate_df[\"INSPECTION_INTERVAL\"][x])/12))/float(aggregate_df[\"SEGMENT_DIAMETER\"][x]))\n",
      "<ipython-input-22-4d383675b975>:18: RuntimeWarning: divide by zero encountered in double_scalars\n",
      "  aggregate_df.iloc[x, 11] = 1 - ((aggregate_df[\"MAX_ACW\"][x]*(float(aggregate_df[\"INSPECTION_INTERVAL\"][x])/12))/float(aggregate_df[\"SEGMENT_DIAMETER\"][x]))\n"
     ]
    }
   ],
   "source": [
    "aggregate_df = chafe_sorted.groupby(by=\"NAME\").first()\n",
    "aggregate_df = aggregate_df.reset_index()\n",
    "aggregate_df = aggregate_df[[\"NAME\", \"PRIMARY_LIGHT_LIST_NUMBER\", \"ASSIGNED_LATITUDE\", \"ASSIGNED_LONGITUDE\", \"INSPECTION_INTERVAL\", \"Seasonal\"]]\n",
    "aggregate_df[\"SEGMENT_DIAMETER\"] = 0\n",
    "aggregate_df[\"AVG_ACW\"] = 0\n",
    "aggregate_df[\"MAX_ACW\"] = 0\n",
    "aggregate_df[\"MEASURE_COUNT\"] = 0\n",
    "aggregate_df[\"AVG_PCT_REMAINING\"] = 0\n",
    "aggregate_df[\"MAX_PCT_REMAINING\"] = 0\n",
    "\n",
    "for x in aggregate_df.index:\n",
    "    temp_df = chafe_sorted[(chafe_sorted[\"NAME\"] == aggregate_df[\"NAME\"][x]) & (chafe_sorted[\"ACW\"] > 0) & (chafe_sorted[\"ACW\"] < 1)]\n",
    "    aggregate_df.iloc[x, 6] = temp_df[\"SEGMENT_DIAMETER\"].max()\n",
    "    aggregate_df.iloc[x, 7] = temp_df[\"ACW\"].mean()\n",
    "    aggregate_df.iloc[x, 8] = temp_df[\"ACW\"].max()\n",
    "    aggregate_df.iloc[x, 9] = temp_df[\"ACW\"].count()\n",
    "    aggregate_df.iloc[x, 10] = 1 - ((aggregate_df[\"AVG_ACW\"][x]*(float(aggregate_df[\"INSPECTION_INTERVAL\"][x])/12))/float(aggregate_df[\"SEGMENT_DIAMETER\"][x]))\n",
    "    aggregate_df.iloc[x, 11] = 1 - ((aggregate_df[\"MAX_ACW\"][x]*(float(aggregate_df[\"INSPECTION_INTERVAL\"][x])/12))/float(aggregate_df[\"SEGMENT_DIAMETER\"][x]))"
   ]
  },
  {
   "cell_type": "code",
   "execution_count": 23,
   "metadata": {},
   "outputs": [],
   "source": [
    "aggregate_df.to_csv(\"aggregate_chafe_df_Final.csv\") #creates output csv in current directory"
   ]
  },
  {
   "cell_type": "code",
   "execution_count": null,
   "metadata": {},
   "outputs": [],
   "source": []
  }
 ],
 "metadata": {
  "kernelspec": {
   "display_name": "Python 3",
   "language": "python",
   "name": "python3"
  },
  "language_info": {
   "codemirror_mode": {
    "name": "ipython",
    "version": 3
   },
   "file_extension": ".py",
   "mimetype": "text/x-python",
   "name": "python",
   "nbconvert_exporter": "python",
   "pygments_lexer": "ipython3",
   "version": "3.9.11"
  }
 },
 "nbformat": 4,
 "nbformat_minor": 4
}
